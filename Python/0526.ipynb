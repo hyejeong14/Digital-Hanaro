{
  "nbformat": 4,
  "nbformat_minor": 0,
  "metadata": {
    "colab": {
      "provenance": [],
      "toc_visible": true
    },
    "kernelspec": {
      "name": "python3",
      "display_name": "Python 3"
    },
    "language_info": {
      "name": "python"
    }
  },
  "cells": [
    {
      "cell_type": "markdown",
      "source": [
        "# 인덱스 활용"
      ],
      "metadata": {
        "id": "2e-M5vjByEQN"
      }
    },
    {
      "cell_type": "code",
      "source": [
        "# 라이브러리 불러오기\n",
        "import pandas as pd"
      ],
      "metadata": {
        "id": "UfBE6v1dyKkI"
      },
      "execution_count": null,
      "outputs": []
    },
    {
      "cell_type": "code",
      "source": [
        "# 딕셔너리 생성\n",
        "sd = {\n",
        "    \"이름\": [\"정대만\",\"강백호\",\"채치수\"],\n",
        "    \"키\": [184, 189, 193],\n",
        "    \"나이\": [19, 17, 19],\n",
        "    \"득점\": [28, 1, 20]\n",
        "}\n",
        "print(sd)"
      ],
      "metadata": {
        "colab": {
          "base_uri": "https://localhost:8080/"
        },
        "id": "a_JQNMza0SCQ",
        "outputId": "1ebfecb3-964f-4365-a181-4b6c7e51f968"
      },
      "execution_count": null,
      "outputs": [
        {
          "output_type": "stream",
          "name": "stdout",
          "text": [
            "{'이름': ['정대만', '강백호', '채치수'], '키': [184, 189, 193], '나이': [19, 17, 19], '득점': [28, 1, 20]}\n"
          ]
        }
      ]
    },
    {
      "cell_type": "code",
      "source": [
        "# 딕셔너리를 데이터프레임으로 변환\n",
        "df = pd.DataFrame(sd)\n",
        "print(df)\n",
        "# 딕셔너리의 키 = 열 이름\n",
        "# 딕셔너리의 값 = 열 값\n",
        "# 리스트 인덱스 = 행 인덱스"
      ],
      "metadata": {
        "colab": {
          "base_uri": "https://localhost:8080/"
        },
        "id": "T-oC_Xh20ugs",
        "outputId": "be2bac0c-b963-4628-86a1-277e884a7ebf"
      },
      "execution_count": null,
      "outputs": [
        {
          "output_type": "stream",
          "name": "stdout",
          "text": [
            "    이름    키  나이  득점\n",
            "0  정대만  184  19  28\n",
            "1  강백호  189  17   1\n",
            "2  채치수  193  19  20\n"
          ]
        }
      ]
    },
    {
      "cell_type": "markdown",
      "source": [
        "## 특정 열을 행 인덱스로 설정"
      ],
      "metadata": {
        "id": "AZTjRaET09rT"
      }
    },
    {
      "cell_type": "code",
      "source": [
        "print(df)\n",
        "# 새로운 데이터프레임을 반환\n",
        "df_new = df.set_index('이름')\n",
        "print(df_new)\n",
        "# 원래 행 인덱스(정수)가 없어지고 이름 열이 행 인덱스가 됨\n",
        "# 이름 열이 사라짐"
      ],
      "metadata": {
        "id": "CRTrKiSg00lA"
      },
      "execution_count": null,
      "outputs": []
    },
    {
      "cell_type": "code",
      "source": [
        "print(df_new)\n",
        "df_new2 = df.set_index('키')\n",
        "print(df_new2)\n",
        "# 키 열이 행 인덱스가 되고, 행 인덱스였던 이름 열이 다시 열로 돌아옴"
      ],
      "metadata": {
        "id": "PACIc1xI1PA6"
      },
      "execution_count": null,
      "outputs": []
    },
    {
      "cell_type": "code",
      "source": [
        "# 여러 개의 열을 행 인덱스로 설정\n",
        "print(df)\n",
        "df_new = df.set_index(['이름', '키'])\n",
        "print(df_new)"
      ],
      "metadata": {
        "id": "r5ISTHWO3EB1"
      },
      "execution_count": null,
      "outputs": []
    },
    {
      "cell_type": "code",
      "source": [
        "# 원본 변경\n",
        "print(df) # 변경 전\n",
        "df.set_index(['이름'], inplace = True)\n",
        "print(df) # 변경 후"
      ],
      "metadata": {
        "id": "Q6o9IriVa7PR"
      },
      "execution_count": null,
      "outputs": []
    },
    {
      "cell_type": "markdown",
      "source": [
        "## 행 인덱스 재배열"
      ],
      "metadata": {
        "id": "7eP3D-OQcOfO"
      }
    },
    {
      "cell_type": "code",
      "source": [
        "# 딕셔너리 생성\n",
        "a_dict = {\n",
        "    \"c1\": [1,2,3,4],\n",
        "    \"c2\": [5,6,7,8],\n",
        "    \"c3\": [9,10,11,12],\n",
        "    \"c4\": [13,14,15,16]\n",
        "}\n",
        "df = pd.DataFrame(a_dict, index = ['r0','r1','r2','r3'])\n",
        "print(df)"
      ],
      "metadata": {
        "id": "yir0Q9I8cV20"
      },
      "execution_count": null,
      "outputs": []
    },
    {
      "cell_type": "code",
      "source": [
        "# 행 인덱스 재배열\n",
        "print(df)\n",
        "# 새로운 데이터프레임 반환\n",
        "df1 = df.reindex(['r1','r3','r0','r2'])\n",
        "print(df1)"
      ],
      "metadata": {
        "id": "yUQur5zPcyye"
      },
      "execution_count": null,
      "outputs": []
    },
    {
      "cell_type": "code",
      "source": [
        "print(df)\n",
        "# 새로운 행 인덱스를 추가하면 해당 값은 NaN 로 채워짐\n",
        "df2 = df.reindex(['r0','r1','r2','r3','r4','r5'])\n",
        "print(df2)\n",
        "df3 = df.reindex(['r0','r1','r2','r3','r4','r5'], fill_value = 0)\n",
        "print(df3)"
      ],
      "metadata": {
        "id": "_IOWxkL0dcJZ"
      },
      "execution_count": null,
      "outputs": []
    },
    {
      "cell_type": "code",
      "source": [
        "# 원본 변경 지원 안함\n",
        "print(df) # 변경 전\n",
        "df.reindex(['r0','r1','r2','r3','r4','r5'], inplace = True)\n",
        "print(df) # 변경 후"
      ],
      "metadata": {
        "id": "-rFKF0Prd1F-"
      },
      "execution_count": null,
      "outputs": []
    },
    {
      "cell_type": "markdown",
      "source": [
        "## 행 인덱스 초기화"
      ],
      "metadata": {
        "id": "kdSoKUjtfTav"
      }
    },
    {
      "cell_type": "code",
      "source": [
        "print(df)"
      ],
      "metadata": {
        "id": "VDXEfYGXfXgu"
      },
      "execution_count": null,
      "outputs": []
    },
    {
      "cell_type": "code",
      "source": [
        "# 행 인덱스 초기화\n",
        "# 기존 행 인덱스 => 열\n",
        "# 행 인덱스는 정수\n",
        "print(df)\n",
        "# 새로운 데이터프레임 반환\n",
        "df4 = df.reset_index()\n",
        "print(df4)"
      ],
      "metadata": {
        "id": "8DPjS9MPfZUC"
      },
      "execution_count": null,
      "outputs": []
    },
    {
      "cell_type": "code",
      "source": [
        "# 원본 변경\n",
        "print(df) # 변경 전\n",
        "df.reset_index(inplace = True)\n",
        "print(df) # 변경 후"
      ],
      "metadata": {
        "colab": {
          "base_uri": "https://localhost:8080/"
        },
        "id": "7t247y5JfyDX",
        "outputId": "655b3b34-2953-4b32-d31b-36079c0a5bda"
      },
      "execution_count": null,
      "outputs": [
        {
          "output_type": "stream",
          "name": "stdout",
          "text": [
            "    c1  c2  c3  c4\n",
            "r0   1   5   9  13\n",
            "r1   2   6  10  14\n",
            "r2   3   7  11  15\n",
            "r3   4   8  12  16\n",
            "  index  c1  c2  c3  c4\n",
            "0    r0   1   5   9  13\n",
            "1    r1   2   6  10  14\n",
            "2    r2   3   7  11  15\n",
            "3    r3   4   8  12  16\n"
          ]
        }
      ]
    },
    {
      "cell_type": "markdown",
      "source": [
        "## 행 인덱스 기준 정렬"
      ],
      "metadata": {
        "id": "blA0FxzrlJpx"
      }
    },
    {
      "cell_type": "code",
      "source": [
        "# 딕셔너리 생성\n",
        "a_dict = {\n",
        "    \"c1\": [1,2,3,4],\n",
        "    \"c2\": [5,6,7,8],\n",
        "    \"c3\": [9,10,11,12],\n",
        "    \"c4\": [13,14,15,16]\n",
        "}\n",
        "df = pd.DataFrame(a_dict, index = ['r0','r1','r2','r3'])\n",
        "print(df)"
      ],
      "metadata": {
        "id": "YCSz53fcgFzC",
        "colab": {
          "base_uri": "https://localhost:8080/"
        },
        "outputId": "9a248c60-7756-4100-efea-6c877e67290b"
      },
      "execution_count": null,
      "outputs": [
        {
          "output_type": "stream",
          "name": "stdout",
          "text": [
            "    c1  c2  c3  c4\n",
            "r0   1   5   9  13\n",
            "r1   2   6  10  14\n",
            "r2   3   7  11  15\n",
            "r3   4   8  12  16\n"
          ]
        }
      ]
    },
    {
      "cell_type": "code",
      "source": [
        "# 행 인덱스가 내림차순 정렬 = r3 ~ r0\n",
        "print(df)\n",
        "# 새로운 데이터프레임 반환\n",
        "df1 = df.sort_index(ascending=False)\n",
        "print(df1)"
      ],
      "metadata": {
        "colab": {
          "base_uri": "https://localhost:8080/"
        },
        "id": "45kYdaC8lbZ4",
        "outputId": "78c4f88a-fa15-4acc-ad8f-d9e73b7fc2b9"
      },
      "execution_count": null,
      "outputs": [
        {
          "output_type": "stream",
          "name": "stdout",
          "text": [
            "    c1  c2  c3  c4\n",
            "r0   1   5   9  13\n",
            "r1   2   6  10  14\n",
            "r2   3   7  11  15\n",
            "r3   4   8  12  16\n",
            "    c1  c2  c3  c4\n",
            "r3   4   8  12  16\n",
            "r2   3   7  11  15\n",
            "r1   2   6  10  14\n",
            "r0   1   5   9  13\n"
          ]
        }
      ]
    },
    {
      "cell_type": "code",
      "source": [
        "# 원본 변경\n",
        "# 행 인덱스가 내림차순 정렬 = r3 ~ r0\n",
        "print(df)\n",
        "df.sort_index(ascending=False, inplace = True)\n",
        "print(df)"
      ],
      "metadata": {
        "colab": {
          "base_uri": "https://localhost:8080/"
        },
        "id": "BzZewdd-oBpS",
        "outputId": "3f3db9e8-e533-4df8-9641-f263f1d591ae"
      },
      "execution_count": null,
      "outputs": [
        {
          "output_type": "stream",
          "name": "stdout",
          "text": [
            "    c1  c2  c3  c4\n",
            "r0   1   5   9  13\n",
            "r1   2   6  10  14\n",
            "r2   3   7  11  15\n",
            "r3   4   8  12  16\n",
            "    c1  c2  c3  c4\n",
            "r3   4   8  12  16\n",
            "r2   3   7  11  15\n",
            "r1   2   6  10  14\n",
            "r0   1   5   9  13\n"
          ]
        }
      ]
    },
    {
      "cell_type": "code",
      "source": [
        "# 행 인덱스가 오름차순 정렬 = r0 ~ r3\n",
        "print(df)\n",
        "# 기본값이 ascending=True 이고, 생략 가능\n",
        "df.sort_index(inplace = True)\n",
        "# = df.sort_index(ascending=True, inplace = True)\n",
        "print(df)"
      ],
      "metadata": {
        "colab": {
          "base_uri": "https://localhost:8080/"
        },
        "id": "Jxctz0wcoSpW",
        "outputId": "e7be6ca7-b251-4f00-b82e-8ccdeb1c8fe6"
      },
      "execution_count": null,
      "outputs": [
        {
          "output_type": "stream",
          "name": "stdout",
          "text": [
            "    c1  c2  c3  c4\n",
            "r3   4   8  12  16\n",
            "r2   3   7  11  15\n",
            "r1   2   6  10  14\n",
            "r0   1   5   9  13\n",
            "    c1  c2  c3  c4\n",
            "r0   1   5   9  13\n",
            "r1   2   6  10  14\n",
            "r2   3   7  11  15\n",
            "r3   4   8  12  16\n"
          ]
        }
      ]
    },
    {
      "cell_type": "markdown",
      "source": [
        "## 열 기준 정렬"
      ],
      "metadata": {
        "id": "bMldcKZolMp5"
      }
    },
    {
      "cell_type": "code",
      "source": [
        "# = 열이 가지고 있는 값으로 정렬\n",
        "print(df)"
      ],
      "metadata": {
        "id": "RqLYIgNCqXhz"
      },
      "execution_count": null,
      "outputs": []
    },
    {
      "cell_type": "code",
      "source": [
        "# 내림차순\n",
        "print(df)\n",
        "# 새로운 데이터프레임으로 반환\n",
        "df1 = df.sort_values('c1', ascending = False)\n",
        "# = df1 = df.sort_values(by = 'c1', ascending = False)\n",
        "print(df1)"
      ],
      "metadata": {
        "id": "kMregSK4qnBE"
      },
      "execution_count": null,
      "outputs": []
    },
    {
      "cell_type": "code",
      "source": [
        "# 원본 변경\n",
        "# 내림차순\n",
        "print(df) # 변경 전\n",
        "df.sort_values('c1', ascending = False, inplace = True)\n",
        "print(df) # 변경 후"
      ],
      "metadata": {
        "id": "0tUqW4tNrd1x"
      },
      "execution_count": null,
      "outputs": []
    },
    {
      "cell_type": "markdown",
      "source": [
        "# 산술 연산"
      ],
      "metadata": {
        "id": "Y_2xypIatiXD"
      }
    },
    {
      "cell_type": "markdown",
      "source": [
        "## 시리즈 & 숫자"
      ],
      "metadata": {
        "id": "TRdRj5JQtm5H"
      }
    },
    {
      "cell_type": "code",
      "source": [
        "import pandas as pd"
      ],
      "metadata": {
        "id": "603AVVUctrAY"
      },
      "execution_count": null,
      "outputs": []
    },
    {
      "cell_type": "code",
      "source": [
        "# 딕셔너리를 시리즈로 변환\n",
        "student1 = pd.Series({\"국어\": 80,\n",
        "                      \"영어\": 50,\n",
        "                      \"수학\": 90})\n",
        "print(student1)\n",
        "# 딕셔너리의 키 = 시리즈의 인덱스\n",
        "# 딕셔너리의 값 = 시리즈의 값"
      ],
      "metadata": {
        "id": "mVi-d-Dzt1yy"
      },
      "execution_count": null,
      "outputs": []
    },
    {
      "cell_type": "code",
      "source": [
        "student1_edit = student1 + 10\n",
        "print(student1_edit)\n",
        "# 시리즈 객체로 반환\n",
        "print(type(student1_edit))"
      ],
      "metadata": {
        "id": "XWfp9Hh8uJby"
      },
      "execution_count": null,
      "outputs": []
    },
    {
      "cell_type": "markdown",
      "source": [
        "## 시리즈 & 시리즈"
      ],
      "metadata": {
        "id": "1CzT_1-hvRR7"
      }
    },
    {
      "cell_type": "code",
      "source": [
        "# 딕셔너리를 시리즈로 변환\n",
        "student1 = pd.Series({\"국어\": 80,\n",
        "                      \"영어\": 50,\n",
        "                      \"수학\": 90})\n",
        "student2 = pd.Series({\"영어\": 90,\n",
        "                      \"수학\": 20,\n",
        "                      \"국어\": 90})\n",
        "print(student1);print(student2)"
      ],
      "metadata": {
        "id": "m9qmxso4u3dL"
      },
      "execution_count": null,
      "outputs": []
    },
    {
      "cell_type": "code",
      "source": [
        "# 사칙연산\n",
        "plus = student1 + student2\n",
        "minus = student1 - student2\n",
        "mul = student1 * student2\n",
        "div = student1 / student2\n",
        "print(plus);print(minus);print(mul);print(div)"
      ],
      "metadata": {
        "id": "kCmVByPSy3-I"
      },
      "execution_count": null,
      "outputs": []
    },
    {
      "cell_type": "code",
      "source": [
        "# 데이터프레임\n",
        "df = pd.DataFrame([plus, minus, mul, div],\n",
        "                  index = ['더하기','빼기','곱하기','나누기'])\n",
        "print(df)"
      ],
      "metadata": {
        "id": "3l9uDI3mz6Rf"
      },
      "execution_count": null,
      "outputs": []
    },
    {
      "cell_type": "code",
      "source": [
        "# 행과 열 바꾸기\n",
        "print(df.T)\n",
        "print(df.transpose())"
      ],
      "metadata": {
        "colab": {
          "base_uri": "https://localhost:8080/"
        },
        "id": "IY3LZDOK0NLD",
        "outputId": "7f0a2b51-291a-4459-be43-76f518de492b"
      },
      "execution_count": null,
      "outputs": [
        {
          "output_type": "stream",
          "name": "stdout",
          "text": [
            "      더하기    빼기     곱하기       나누기\n",
            "국어  170.0 -10.0  7200.0  0.888889\n",
            "수학  110.0  70.0  1800.0  4.500000\n",
            "영어  140.0 -40.0  4500.0  0.555556\n",
            "      더하기    빼기     곱하기       나누기\n",
            "국어  170.0 -10.0  7200.0  0.888889\n",
            "수학  110.0  70.0  1800.0  4.500000\n",
            "영어  140.0 -40.0  4500.0  0.555556\n"
          ]
        }
      ]
    },
    {
      "cell_type": "markdown",
      "source": [
        "#### 1) 대응되는 인덱스가 있는데, 그 값이 NaN 인 경우"
      ],
      "metadata": {
        "id": "JJblQt4b1aSe"
      }
    },
    {
      "cell_type": "markdown",
      "source": [
        "#### 2) 대응되는 인덱스가 없는 경우"
      ],
      "metadata": {
        "id": "BKvhaRWD1moy"
      }
    },
    {
      "cell_type": "code",
      "source": [
        "import numpy as np\n",
        "# 딕셔너리를 시리즈로 변환\n",
        "student1 = pd.Series({\"국어\": 80,\n",
        "                      \"영어\": 50,\n",
        "                      \"수학\": 90})\n",
        "student2 = pd.Series({\"영어\": 90,\n",
        "                      \"국어\": np.nan})"
      ],
      "metadata": {
        "id": "-BZCht6j1ZBc"
      },
      "execution_count": null,
      "outputs": []
    },
    {
      "cell_type": "code",
      "source": [
        "# 사칙연산\n",
        "plus = student1 + student2\n",
        "minus = student1 - student2\n",
        "mul = student1 * student2\n",
        "div = student1 / student2\n",
        "# 데이터프레임\n",
        "df = pd.DataFrame([plus, minus, mul, div],\n",
        "                  index = ['더하기','빼기','곱하기','나누기'])\n",
        "print(df)"
      ],
      "metadata": {
        "colab": {
          "base_uri": "https://localhost:8080/"
        },
        "id": "aIhUjv5Y2OaA",
        "outputId": "c5ef3288-d6c6-4e26-a8c3-1d861dc28798"
      },
      "execution_count": null,
      "outputs": [
        {
          "output_type": "stream",
          "name": "stdout",
          "text": [
            "     국어  수학           영어\n",
            "더하기 NaN NaN   140.000000\n",
            "빼기  NaN NaN   -40.000000\n",
            "곱하기 NaN NaN  4500.000000\n",
            "나누기 NaN NaN     0.555556\n"
          ]
        }
      ]
    },
    {
      "cell_type": "markdown",
      "source": [
        "### nan 으로 바뀌는 것을 막는 방법"
      ],
      "metadata": {
        "id": "3FaKVjYu3tDX"
      }
    },
    {
      "cell_type": "code",
      "source": [
        "import numpy as np\n",
        "# 딕셔너리를 시리즈로 변환\n",
        "student1 = pd.Series({\"국어\": np.nan,\n",
        "                      \"영어\": 50,\n",
        "                      \"수학\": 90})\n",
        "student2 = pd.Series({\"영어\": 90,\n",
        "                      \"국어\": 80})"
      ],
      "metadata": {
        "id": "muNKE_TG3sVl"
      },
      "execution_count": null,
      "outputs": []
    },
    {
      "cell_type": "code",
      "source": [
        "# 사칙연산 => 연산 메소드\n",
        "plus = student1.add(student2, fill_value = 0)\n",
        "minus = student1.sub(student2, fill_value = 0) \n",
        "mul = student1.mul(student2, fill_value = 0)\n",
        "div = student1.div(student2, fill_value = 0)\n",
        "# 데이터프레임\n",
        "df = pd.DataFrame([plus, minus, mul, div],\n",
        "                  index = ['더하기','빼기','곱하기','나누기'])\n",
        "print(df)\n",
        "# 계산결과 국어 앞에 있는 값이 0, 수학 뒤에 있는 값 0"
      ],
      "metadata": {
        "colab": {
          "base_uri": "https://localhost:8080/"
        },
        "id": "a1S0KoeD4AOn",
        "outputId": "14cf3a2b-c252-4d15-9d8d-ccbcaea59ae3"
      },
      "execution_count": null,
      "outputs": [
        {
          "output_type": "stream",
          "name": "stdout",
          "text": [
            "       국어    수학           영어\n",
            "더하기  80.0  90.0   140.000000\n",
            "빼기  -80.0  90.0   -40.000000\n",
            "곱하기   0.0   0.0  4500.000000\n",
            "나누기   0.0   inf     0.555556\n"
          ]
        }
      ]
    },
    {
      "cell_type": "markdown",
      "source": [
        "## 데이터프레임 & 숫자"
      ],
      "metadata": {
        "id": "RQ6tbaSh6MpH"
      }
    },
    {
      "cell_type": "code",
      "source": [
        "import seaborn as sns\n",
        "# 타이타닉 데이터 불러오기(라이브러리 내장 데이터)\n",
        "titanic = sns.load_dataset('titanic')\n",
        "# 데이터 앞부분 보기 = 기본값이 5개의 행\n",
        "titanic.head()"
      ],
      "metadata": {
        "id": "UxsntH1e6QlE"
      },
      "execution_count": null,
      "outputs": []
    },
    {
      "cell_type": "code",
      "source": [
        "titanic.head(10)"
      ],
      "metadata": {
        "id": "JcdUmK-R7Hw7"
      },
      "execution_count": null,
      "outputs": []
    },
    {
      "cell_type": "code",
      "source": [
        "# age, fare 열을 추출 = 모든 행과 age, fare 열 2개\n",
        "df = titanic.loc[:,['age','fare']]\n",
        "df.head()"
      ],
      "metadata": {
        "id": "x-uLsrBO7qyA"
      },
      "execution_count": null,
      "outputs": []
    },
    {
      "cell_type": "code",
      "source": [
        "plus = df + 5\n",
        "print(plus)\n",
        "print(type(plus))"
      ],
      "metadata": {
        "id": "Yypa3-iT8I0u"
      },
      "execution_count": null,
      "outputs": []
    },
    {
      "cell_type": "markdown",
      "source": [
        "## 데이터프레임 & 데이터프레임"
      ],
      "metadata": {
        "id": "Czs9Q_VL9Cgn"
      }
    },
    {
      "cell_type": "code",
      "source": [
        "import seaborn as sns\n",
        "# 타이타닉 데이터 불러오기(라이브러리 내장 데이터)\n",
        "titanic = sns.load_dataset('titanic')\n",
        "# age, fare 열을 추출 = 모든 행과 age, fare 열 2개\n",
        "df = titanic.loc[:,['age','fare']]\n",
        "plus = df + 5\n",
        "# 데이터프레임과 데이터프레임을 이용해서 빼기\n",
        "minus = plus - df\n",
        "print(minus)"
      ],
      "metadata": {
        "id": "9yo-e_VZ8aYT"
      },
      "execution_count": null,
      "outputs": []
    },
    {
      "cell_type": "markdown",
      "source": [
        "# 데이터 입출력"
      ],
      "metadata": {
        "id": "saqF7moXVe2b"
      }
    },
    {
      "cell_type": "markdown",
      "source": [
        "## 외부파일 불러오기"
      ],
      "metadata": {
        "id": "Q-cJAG1wVkax"
      }
    },
    {
      "cell_type": "markdown",
      "source": [
        "### csv"
      ],
      "metadata": {
        "id": "OqeF93hnfPYm"
      }
    },
    {
      "cell_type": "code",
      "source": [
        "# 라이브러리 불러오기\n",
        "import pandas as pd"
      ],
      "metadata": {
        "id": "WHttfAuWOstU"
      },
      "execution_count": null,
      "outputs": []
    },
    {
      "cell_type": "code",
      "source": [
        "# csv 파일 불러오기\n",
        "# 파일 경로, 파일 이름, 파일 확장자\n",
        "df = pd.read_csv('/content/drive/MyDrive/hana1/data/read_csv_sample.csv')\n",
        "print(df)\n",
        "# 기본값이 header = 0 => 원래 데이터에 첫 번째 행이 열 이름인 경우에 쓰는 방법\n",
        "df1 = pd.read_csv('/content/drive/MyDrive/hana1/data/read_csv_sample.csv', header = 0)\n",
        "print(df1)\n",
        "# 두 번째 행을 열 이름으로 설정\n",
        "df2 = pd.read_csv('/content/drive/MyDrive/hana1/data/read_csv_sample.csv', header = 1)\n",
        "print(df2)\n",
        "# 원래 데이터에 열 이름 없이 전부 데이터로 구성된 경우\n",
        "df3 = pd.read_csv('/content/drive/MyDrive/hana1/data/read_csv_sample.csv', header = None)\n",
        "print(df3)\n",
        "# 행 인덱스\n",
        "df4 = pd.read_csv('/content/drive/MyDrive/hana1/data/read_csv_sample.csv')\n",
        "print(df4)\n",
        "# 기본값이 index_col = None, 행 인덱스가 기본값 (정수형 위치 인덱스)\n",
        "df5 = pd.read_csv('/content/drive/MyDrive/hana1/data/read_csv_sample.csv', index_col = None)\n",
        "print(df5)\n",
        "# 특정 열을 행 인덱스로 설정\n",
        "df6 = pd.read_csv('/content/drive/MyDrive/hana1/data/read_csv_sample.csv', index_col = 'c0')\n",
        "print(df6)"
      ],
      "metadata": {
        "id": "HKVBAIp2WgWJ"
      },
      "execution_count": null,
      "outputs": []
    },
    {
      "cell_type": "markdown",
      "source": [
        "### excel"
      ],
      "metadata": {
        "id": "2OiEE2xxfTZO"
      }
    },
    {
      "cell_type": "markdown",
      "source": [
        "read_excel 판다스 공식 문서 참고할 것!\n",
        "\n",
        "https://pandas.pydata.org/docs/reference/api/pandas.read_excel.html"
      ],
      "metadata": {
        "id": "5n4EQ9VWenHP"
      }
    },
    {
      "cell_type": "code",
      "source": [
        "pd.read_excel('/content/drive/MyDrive/hana1/data/남북한발전전력량.xlsx', engine = 'openpyxl')"
      ],
      "metadata": {
        "id": "TX4u8CWWdWbF"
      },
      "execution_count": null,
      "outputs": []
    },
    {
      "cell_type": "code",
      "source": [
        "# csv 파일 불러오기\n",
        "# 파일 경로, 파일 이름, 파일 확장자\n",
        "# engine = None 기본값\n",
        "df = pd.read_excel('/content/drive/MyDrive/hana1/data/남북한발전전력량.xlsx', \n",
        "                   engine = 'openpyxl')\n",
        "print(df)\n",
        "# 기본값이 header = 0 => 원래 데이터에 첫 번째 행이 열 이름인 경우에 쓰는 방법\n",
        "df1 = pd.read_excel('/content/drive/MyDrive/hana1/data/남북한발전전력량.xlsx', \n",
        "                    engine = 'openpyxl', header = 0)\n",
        "print(df1)\n",
        "# 두 번째 행을 열 이름으로 설정\n",
        "df2 = pd.read_excel('/content/drive/MyDrive/hana1/data/남북한발전전력량.xlsx', \n",
        "                    engine = 'openpyxl', header = 1)\n",
        "print(df2)\n",
        "# 원래 데이터에 열 이름 없이 전부 데이터로 구성된 경우\n",
        "df3 = pd.read_excel('/content/drive/MyDrive/hana1/data/남북한발전전력량.xlsx', \n",
        "                    engine = 'openpyxl', header = None)\n",
        "print(df3)\n",
        "# 행 인덱스\n",
        "df4 = pd.read_excel('/content/drive/MyDrive/hana1/data/남북한발전전력량.xlsx', \n",
        "                    engine = 'openpyxl')\n",
        "print(df4)\n",
        "# 기본값이 index_col = None, 행 인덱스가 기본값 (정수형 위치 인덱스)\n",
        "df5 = pd.read_excel('/content/drive/MyDrive/hana1/data/남북한발전전력량.xlsx', \n",
        "                    engine = 'openpyxl', index_col = None)\n",
        "print(df5)\n",
        "# 특정 열을 행 인덱스로 설정\n",
        "df6 = pd.read_excel('/content/drive/MyDrive/hana1/data/남북한발전전력량.xlsx', \n",
        "                    engine = 'openpyxl', index_col = '1990')\n",
        "print(df6)"
      ],
      "metadata": {
        "id": "TrmvegyAc7LE"
      },
      "execution_count": null,
      "outputs": []
    },
    {
      "cell_type": "markdown",
      "source": [
        "### json"
      ],
      "metadata": {
        "id": "Qe4gYtogie71"
      }
    },
    {
      "cell_type": "code",
      "source": [
        "df = pd.read_json('/content/drive/MyDrive/hana1/data/read_json_sample.json')\n",
        "print(df)\n",
        "print(df.index)"
      ],
      "metadata": {
        "colab": {
          "base_uri": "https://localhost:8080/"
        },
        "id": "TfqqEcxNcXYJ",
        "outputId": "02dc5e23-b897-400a-c0c1-48bab4ee6f43"
      },
      "execution_count": null,
      "outputs": [
        {
          "output_type": "stream",
          "name": "stdout",
          "text": [
            "           name  year        developer opensource\n",
            "pandas           2008    Wes Mckinneye       True\n",
            "NumPy            2006  Travis Oliphant       True\n",
            "matplotlib       2003   John D. Hunter       True\n",
            "Index(['pandas', 'NumPy', 'matplotlib'], dtype='object')\n"
          ]
        }
      ]
    },
    {
      "cell_type": "markdown",
      "source": [
        "### 저장하기"
      ],
      "metadata": {
        "id": "JgH_mE15kBsF"
      }
    },
    {
      "cell_type": "code",
      "source": [
        "mid_term = {\"name\": ['Bae','Shin','Park'],\n",
        "            \"sql\": [90, 80, 70],\n",
        "            \"python\": [50, 70, 90],\n",
        "            \"stat\": [100, 60, 80]}\n",
        "df = pd.DataFrame(mid_term)\n",
        "print(df)"
      ],
      "metadata": {
        "id": "1feHgA4LkLj2"
      },
      "execution_count": null,
      "outputs": []
    },
    {
      "cell_type": "code",
      "source": [
        "# 이름 열을 행 인덱스로 설정\n",
        "print(df)\n",
        "df.set_index('name', inplace = True)\n",
        "print(df)"
      ],
      "metadata": {
        "id": "-5aImXIJk9A6"
      },
      "execution_count": null,
      "outputs": []
    },
    {
      "cell_type": "code",
      "source": [
        "# csv 로 저장(기본경로 = ./ = /content/)\n",
        "df.to_csv('./df_csv.csv')"
      ],
      "metadata": {
        "id": "CQlRJFcZlNeD"
      },
      "execution_count": null,
      "outputs": []
    },
    {
      "cell_type": "code",
      "source": [
        "# excel 로 저장(기본경로 = ./ = /content/)\n",
        "df.to_excel('./df_excel.xlsx')"
      ],
      "metadata": {
        "id": "KW25VUark3mE"
      },
      "execution_count": null,
      "outputs": []
    },
    {
      "cell_type": "code",
      "source": [
        "# json 로 저장(기본경로 = ./ = /content/)\n",
        "df.to_json('./df_json.json')"
      ],
      "metadata": {
        "id": "X0KxLrhemGfk"
      },
      "execution_count": null,
      "outputs": []
    },
    {
      "cell_type": "code",
      "source": [
        "# 여러 개의 데이터프레임을 하나의 엑셀 파일로 저장\n",
        "print(df)"
      ],
      "metadata": {
        "id": "kAs-3c8DpsOt"
      },
      "execution_count": null,
      "outputs": []
    },
    {
      "cell_type": "code",
      "source": [
        "df1 = df.reset_index()\n",
        "print(df1)"
      ],
      "metadata": {
        "id": "-NtQmE9Xp2By"
      },
      "execution_count": null,
      "outputs": []
    },
    {
      "cell_type": "code",
      "source": [
        "# 엑셀 파일 = 워크 북\n",
        "# 시트 = 워크 시트\n",
        "wb = pd.ExcelWriter('./wb_excel.xlsx')\n",
        "df.to_excel(wb, sheet_name = 'df1')\n",
        "df1.to_excel(wb, sheet_name = 'df2')\n",
        "wb.save()"
      ],
      "metadata": {
        "colab": {
          "base_uri": "https://localhost:8080/"
        },
        "id": "_IwNfhZEqHUC",
        "outputId": "0831b545-b916-4cf1-fc29-7d0c8da46cf7"
      },
      "execution_count": null,
      "outputs": [
        {
          "output_type": "stream",
          "name": "stderr",
          "text": [
            "<ipython-input-82-319bb1466339>:6: FutureWarning: save is not part of the public API, usage can give unexpected results and will be removed in a future version\n",
            "  wb.save()\n"
          ]
        }
      ]
    },
    {
      "cell_type": "markdown",
      "source": [
        "## 웹에서 가져오기"
      ],
      "metadata": {
        "id": "IpoFcYyvrd0A"
      }
    },
    {
      "cell_type": "markdown",
      "source": [
        "### HTML"
      ],
      "metadata": {
        "id": "BGiEPkxSrTwr"
      }
    },
    {
      "cell_type": "code",
      "source": [
        "# 라이브러리 불러오기\n",
        "import pandas as pd"
      ],
      "metadata": {
        "id": "PMznJGCzrFuj"
      },
      "execution_count": null,
      "outputs": []
    },
    {
      "cell_type": "code",
      "source": [
        "url = '/content/drive/MyDrive/hana1/data/sample.html'\n",
        "df = pd.read_html(url)\n",
        "# print(df)\n",
        "print(len(df)) # 2개의 테이블\n",
        "for i in range(len(df)):\n",
        "  print(\"table {}\".format(i+1))\n",
        "  print(df[i])"
      ],
      "metadata": {
        "id": "N32cMJUXs4k5"
      },
      "execution_count": null,
      "outputs": []
    },
    {
      "cell_type": "code",
      "source": [
        "table1 = df[0]\n",
        "table2 = df[1]\n",
        "print(table1);print(table2)"
      ],
      "metadata": {
        "id": "5-cTBb6otVRR"
      },
      "execution_count": null,
      "outputs": []
    },
    {
      "cell_type": "code",
      "source": [
        "table1.set_index('c3', inplace = True)\n",
        "table2.set_index('name', inplace = True)\n",
        "print(table1);print(table2)"
      ],
      "metadata": {
        "colab": {
          "base_uri": "https://localhost:8080/"
        },
        "id": "pB4e676PunbL",
        "outputId": "78a53332-0f46-4757-a736-3261cdaf3ea1"
      },
      "execution_count": null,
      "outputs": [
        {
          "output_type": "stream",
          "name": "stdout",
          "text": [
            "    Unnamed: 0  c0  c1  c2\n",
            "c3                        \n",
            "7            0   0   1   4\n",
            "8            1   1   2   5\n",
            "9            2   2   3   6\n",
            "            year        developer  opensource\n",
            "name                                         \n",
            "NumPy       2006  Travis Oliphant        True\n",
            "matplotlib  2003   John D. Hunter        True\n",
            "pandas      2008    Wes Mckinneye        True\n"
          ]
        }
      ]
    },
    {
      "cell_type": "markdown",
      "source": [
        "## 웹 스크래핑"
      ],
      "metadata": {
        "id": "2uBSDOhzv2Ct"
      }
    },
    {
      "cell_type": "code",
      "source": [
        "# 라이브러리 불러오기\n",
        "from bs4 import BeautifulSoup\n",
        "import requests\n",
        "import re\n",
        "import pandas as pd"
      ],
      "metadata": {
        "id": "tWqr_j3Ov5ev"
      },
      "execution_count": null,
      "outputs": []
    },
    {
      "cell_type": "code",
      "source": [
        "url = 'https://en.wikipedia.org/w/index.php?title=List_of_American_exchange-traded_funds&oldid=948664741'\n",
        "resp = requests.get(url)\n",
        "soup = BeautifulSoup(resp.text, 'lxml')\n",
        "print(soup)"
      ],
      "metadata": {
        "id": "NeiMnWIUwtfs"
      },
      "execution_count": null,
      "outputs": []
    },
    {
      "cell_type": "code",
      "source": [
        "rows = soup.select('div > ul > li')\n",
        "print(rows)"
      ],
      "metadata": {
        "id": "fPq_ai-kyLC1"
      },
      "execution_count": null,
      "outputs": []
    },
    {
      "cell_type": "code",
      "source": [
        "etf = {}\n",
        "for row in rows:\n",
        "  # 주식 상품 이름, 주식 시장 이름, 티커(주식 상품 이름 약어)\n",
        "  # 예) iShares Russell 1000 Growth Index (NYSE Arca|IWF)\n",
        "  # ^ = 문자열의 맨 처음과 매치 <=> $ = 문자열의 맨 끝과 매치\n",
        "  # . = 줄 바꿈 \\n 를 제외하고 모든 문자열과 매치\n",
        "  # * = 앞에 있는 문자가 0부터 무한대로 매치\n",
        "  # findall = 정규표현식으로 매치되는 모든 문자열을 리스트 형태로 반환\n",
        "  etf_name = re.findall(\"^(.*) \\(NYSE\", row.text) # 처음부터  (NYSE 의 문자열\n",
        "  etf_market = re.findall(\"\\((.*)\\|\", row.text) # ( ~ | 의 문자열\n",
        "  etf_ticker = re.findall(\"\\|(.*)\\)\", row.text) # ( ~ | 의 문자열\n",
        "  # 세 개의 데이터가 모두 있는 경우\n",
        "  if (len(etf_name) > 0) & (len(etf_market) > 0) & (len(etf_ticker) > 0):\n",
        "    etf[etf_ticker[0]] = [etf_market[0], etf_name[0]]\n",
        "df = pd.DataFrame(etf)\n",
        "print(df)"
      ],
      "metadata": {
        "id": "_8TTgcipyxAB"
      },
      "execution_count": null,
      "outputs": []
    },
    {
      "cell_type": "code",
      "source": [
        "print(df.T)\n",
        "print(df.transpose())"
      ],
      "metadata": {
        "id": "IrUULzn87tFu"
      },
      "execution_count": null,
      "outputs": []
    },
    {
      "cell_type": "code",
      "source": [
        "import re\n",
        "string = \"Vanguard S&P Small-Cap 600 (NYSE Arca|VIOO)\"\n",
        "# 역슬래시 바로 뒤에 문자가 있어야 함\n",
        "print(re.findall('^(.*)\\(NYSE', string))\n",
        "# print(re.findall('^(.*)\\ (NYSE', string))\n",
        "print(re.findall('^(.*) \\(NYSE', string))\n",
        "# blank = \\s\n",
        "print(re.findall('^(.*)\\s\\(NYSE', string))\n",
        "print(re.findall('\\((.*)\\|', string))\n",
        "print(re.findall('\\|(.*)\\)', string))"
      ],
      "metadata": {
        "colab": {
          "base_uri": "https://localhost:8080/"
        },
        "id": "M0dg3pxOFPv8",
        "outputId": "2c4bc651-75b7-43d6-d209-c25dc863b0ec"
      },
      "execution_count": null,
      "outputs": [
        {
          "output_type": "stream",
          "name": "stdout",
          "text": [
            "['Vanguard S&P Small-Cap 600 ']\n",
            "['Vanguard S&P Small-Cap 600']\n",
            "['Vanguard S&P Small-Cap 600']\n",
            "['NYSE Arca']\n",
            "['VIOO']\n"
          ]
        }
      ]
    },
    {
      "cell_type": "markdown",
      "source": [
        "![image.png](data:image/png;base64,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)"
      ],
      "metadata": {
        "id": "7361-7ApJpUQ"
      }
    },
    {
      "cell_type": "markdown",
      "source": [
        "![image.png](data:image/png;base64,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)"
      ],
      "metadata": {
        "id": "mCqp40xvJq06"
      }
    }
  ]
}