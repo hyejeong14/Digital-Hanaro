{
  "nbformat": 4,
  "nbformat_minor": 0,
  "metadata": {
    "colab": {
      "provenance": [],
      "mount_file_id": "1posvtjXvYs76LlCeGcDmeXzAZ5_eKkzm",
      "authorship_tag": "ABX9TyNi2W5/rTj6UeFuoHoK9Jgz",
      "include_colab_link": true
    },
    "kernelspec": {
      "name": "python3",
      "display_name": "Python 3"
    },
    "language_info": {
      "name": "python"
    }
  },
  "cells": [
    {
      "cell_type": "markdown",
      "metadata": {
        "id": "view-in-github",
        "colab_type": "text"
      },
      "source": [
        "<a href=\"https://colab.research.google.com/github/hyejeong14/Digital-Hanaro/blob/main/0607_%EC%97%91%EC%85%80%EB%8B%A4%EB%A3%A8%EA%B8%B0.ipynb\" target=\"_parent\"><img src=\"https://colab.research.google.com/assets/colab-badge.svg\" alt=\"Open In Colab\"/></a>"
      ]
    },
    {
      "cell_type": "markdown",
      "source": [
        "#엑셀 다루기"
      ],
      "metadata": {
        "id": "8283tO0DQQoI"
      }
    },
    {
      "cell_type": "markdown",
      "source": [
        "##데이터 입력 및 저장"
      ],
      "metadata": {
        "id": "6iB1GXSiQS57"
      }
    },
    {
      "cell_type": "code",
      "execution_count": null,
      "metadata": {
        "id": "JpVNalKgKGli"
      },
      "outputs": [],
      "source": [
        "from openpyxl import Workbook"
      ]
    },
    {
      "cell_type": "code",
      "source": [
        "wb = Workbook() #객체 생성"
      ],
      "metadata": {
        "id": "qfhnTJ1hQcxF"
      },
      "execution_count": null,
      "outputs": []
    },
    {
      "cell_type": "code",
      "source": [
        "#워크시트 생성\n",
        "ws1 = wb.create_sheet('new worksheet')"
      ],
      "metadata": {
        "id": "PbXnSLBkQoBX"
      },
      "execution_count": null,
      "outputs": []
    },
    {
      "cell_type": "code",
      "source": [
        "#새로 생성한 워크시트는 맨 뒤에 위치\n",
        "wb.sheetnames"
      ],
      "metadata": {
        "colab": {
          "base_uri": "https://localhost:8080/"
        },
        "id": "VTiuaNGqRHFc",
        "outputId": "ea311265-e13d-462a-a6ef-0e0391efd4b0"
      },
      "execution_count": null,
      "outputs": [
        {
          "output_type": "execute_result",
          "data": {
            "text/plain": [
              "['Sheet', 'new worksheet']"
            ]
          },
          "metadata": {},
          "execution_count": 4
        }
      ]
    },
    {
      "cell_type": "code",
      "source": [
        "#위치를 지정해서 워크시트 생성\n",
        "ws2 = wb.create_sheet('sheet2',1)"
      ],
      "metadata": {
        "id": "FlUNraGpRYBd"
      },
      "execution_count": null,
      "outputs": []
    },
    {
      "cell_type": "code",
      "source": [
        "wb.sheetnames"
      ],
      "metadata": {
        "colab": {
          "base_uri": "https://localhost:8080/"
        },
        "id": "55FoVo25SF9K",
        "outputId": "dcf4a782-5b24-4462-9f85-757b6251cd53"
      },
      "execution_count": null,
      "outputs": [
        {
          "output_type": "execute_result",
          "data": {
            "text/plain": [
              "['Sheet', 'sheet2', 'new worksheet']"
            ]
          },
          "metadata": {},
          "execution_count": 6
        }
      ]
    },
    {
      "cell_type": "code",
      "source": [
        "#위치를 지정해서 워크시트 생성\n",
        "ws2 = wb.create_sheet('sheet3',-1)"
      ],
      "metadata": {
        "id": "cna_YzjbSHsC"
      },
      "execution_count": null,
      "outputs": []
    },
    {
      "cell_type": "code",
      "source": [
        "wb.sheetnames"
      ],
      "metadata": {
        "colab": {
          "base_uri": "https://localhost:8080/"
        },
        "id": "kvYTe769SWHl",
        "outputId": "66ac4e15-7b73-45b5-f821-a08c72ebd05c"
      },
      "execution_count": null,
      "outputs": [
        {
          "output_type": "execute_result",
          "data": {
            "text/plain": [
              "['Sheet', 'sheet2', 'sheet3', 'new worksheet']"
            ]
          },
          "metadata": {},
          "execution_count": 8
        }
      ]
    },
    {
      "cell_type": "code",
      "source": [
        "#시트 이름 변경\n",
        "ws1.title='시트 1'"
      ],
      "metadata": {
        "id": "5Dr5oXwgSXge"
      },
      "execution_count": null,
      "outputs": []
    },
    {
      "cell_type": "code",
      "source": [
        "wb.sheetnames"
      ],
      "metadata": {
        "colab": {
          "base_uri": "https://localhost:8080/"
        },
        "id": "FlaCJnORTcOe",
        "outputId": "13340db9-3ad6-4f17-db03-0e5766a4e791"
      },
      "execution_count": null,
      "outputs": [
        {
          "output_type": "execute_result",
          "data": {
            "text/plain": [
              "['Sheet', 'sheet2', 'sheet3', '시트 1']"
            ]
          },
          "metadata": {},
          "execution_count": 10
        }
      ]
    },
    {
      "cell_type": "code",
      "source": [
        "#워크시트 이름 하나씩\n",
        "for i in wb:\n",
        "  #print(i)\n",
        "  print(i.title)"
      ],
      "metadata": {
        "colab": {
          "base_uri": "https://localhost:8080/"
        },
        "id": "09tkqT2cTtal",
        "outputId": "c156dc81-5ed9-4bc1-ce69-c4adf64c9dbe"
      },
      "execution_count": null,
      "outputs": [
        {
          "output_type": "stream",
          "name": "stdout",
          "text": [
            "Sheet\n",
            "sheet2\n",
            "sheet3\n",
            "시트 1\n"
          ]
        }
      ]
    },
    {
      "cell_type": "code",
      "source": [
        "#시트 이름을 키로 사용\n",
        "ws4 = wb['시트 1']\n",
        "print(ws4);print(ws1)"
      ],
      "metadata": {
        "colab": {
          "base_uri": "https://localhost:8080/"
        },
        "id": "Y8kb4LypT_E8",
        "outputId": "bebe2713-dd9b-4254-f3f1-724970b5eac2"
      },
      "execution_count": null,
      "outputs": [
        {
          "output_type": "stream",
          "name": "stdout",
          "text": [
            "<Worksheet \"시트 1\">\n",
            "<Worksheet \"시트 1\">\n"
          ]
        }
      ]
    },
    {
      "cell_type": "code",
      "source": [
        "wb_test = Workbook()"
      ],
      "metadata": {
        "id": "UOBHkwMEYr0c"
      },
      "execution_count": null,
      "outputs": []
    },
    {
      "cell_type": "code",
      "source": [
        "wb_test.sheetnames"
      ],
      "metadata": {
        "colab": {
          "base_uri": "https://localhost:8080/"
        },
        "id": "bW4AJyOlYxbB",
        "outputId": "59daa2b1-dc49-4175-d31d-7c2665176155"
      },
      "execution_count": null,
      "outputs": [
        {
          "output_type": "execute_result",
          "data": {
            "text/plain": [
              "['Sheet']"
            ]
          },
          "metadata": {},
          "execution_count": 14
        }
      ]
    },
    {
      "cell_type": "code",
      "source": [
        "#시트 활성화\n",
        "ws_test = wb_test.active"
      ],
      "metadata": {
        "id": "mPE3ZNFLYz8v"
      },
      "execution_count": null,
      "outputs": []
    },
    {
      "cell_type": "code",
      "source": [
        "ws_test.title = \"테스트 시트\""
      ],
      "metadata": {
        "id": "9QlTeX57ZCqU"
      },
      "execution_count": null,
      "outputs": []
    },
    {
      "cell_type": "code",
      "source": [
        "wb_test.sheetnames"
      ],
      "metadata": {
        "colab": {
          "base_uri": "https://localhost:8080/"
        },
        "id": "IQ4zEq7eZHKj",
        "outputId": "ba3995ec-680c-42e7-a452-1800f939c029"
      },
      "execution_count": null,
      "outputs": [
        {
          "output_type": "execute_result",
          "data": {
            "text/plain": [
              "['테스트 시트']"
            ]
          },
          "metadata": {},
          "execution_count": 17
        }
      ]
    },
    {
      "cell_type": "code",
      "source": [
        "#단일셀 접근\n",
        "#시트 활성화\n",
        "ws = wb.active"
      ],
      "metadata": {
        "id": "-7TTBgE4ZOQa"
      },
      "execution_count": null,
      "outputs": []
    },
    {
      "cell_type": "code",
      "source": [
        "#셀 이름 = 엑셀에서 열 이름 + 행 번호 => ex)A2\n",
        "ws['A2'] #행과 열 동시에 사용해서 접근"
      ],
      "metadata": {
        "colab": {
          "base_uri": "https://localhost:8080/"
        },
        "id": "T1pqV_Y-aaY1",
        "outputId": "d33fba0d-eb34-42a5-a900-caa83b547e6c"
      },
      "execution_count": null,
      "outputs": [
        {
          "output_type": "execute_result",
          "data": {
            "text/plain": [
              "<Cell 'Sheet'.A2>"
            ]
          },
          "metadata": {},
          "execution_count": 19
        }
      ]
    },
    {
      "cell_type": "code",
      "source": [
        "ws[2] #행만 접근"
      ],
      "metadata": {
        "colab": {
          "base_uri": "https://localhost:8080/"
        },
        "id": "PjoufeywbGv3",
        "outputId": "04fd01e4-8d47-4f29-97e6-96b86b3f9fce"
      },
      "execution_count": null,
      "outputs": [
        {
          "output_type": "execute_result",
          "data": {
            "text/plain": [
              "(<Cell 'Sheet'.A2>,)"
            ]
          },
          "metadata": {},
          "execution_count": 20
        }
      ]
    },
    {
      "cell_type": "code",
      "source": [
        "ws['A'] #열만 접근"
      ],
      "metadata": {
        "colab": {
          "base_uri": "https://localhost:8080/"
        },
        "id": "8tv8ioSlbkia",
        "outputId": "653e1ba6-7d9a-4ef3-91d5-41c3fd31318e"
      },
      "execution_count": null,
      "outputs": [
        {
          "output_type": "execute_result",
          "data": {
            "text/plain": [
              "(<Cell 'Sheet'.A1>, <Cell 'Sheet'.A2>)"
            ]
          },
          "metadata": {},
          "execution_count": 21
        }
      ]
    },
    {
      "cell_type": "code",
      "source": [
        "#다중셀 접근\n",
        "#셀 이름 => 범위 지정 방식 사욫\n",
        "ws['A2:D2']"
      ],
      "metadata": {
        "colab": {
          "base_uri": "https://localhost:8080/"
        },
        "id": "9TLLjS6mbpCH",
        "outputId": "b927ee0c-f49c-4feb-85fb-1cf2441e3e6d"
      },
      "execution_count": null,
      "outputs": [
        {
          "output_type": "execute_result",
          "data": {
            "text/plain": [
              "((<Cell 'Sheet'.A2>, <Cell 'Sheet'.B2>, <Cell 'Sheet'.C2>, <Cell 'Sheet'.D2>),)"
            ]
          },
          "metadata": {},
          "execution_count": 22
        }
      ]
    },
    {
      "cell_type": "code",
      "source": [
        "#행 번호로 접근\n",
        "ws[2:3]\n",
        "#행만"
      ],
      "metadata": {
        "colab": {
          "base_uri": "https://localhost:8080/"
        },
        "id": "Im80Si68carZ",
        "outputId": "8f814662-37cf-4863-ce86-c022bfe30d5d"
      },
      "execution_count": null,
      "outputs": [
        {
          "output_type": "execute_result",
          "data": {
            "text/plain": [
              "((<Cell 'Sheet'.A2>, <Cell 'Sheet'.B2>, <Cell 'Sheet'.C2>, <Cell 'Sheet'.D2>),\n",
              " (<Cell 'Sheet'.A3>, <Cell 'Sheet'.B3>, <Cell 'Sheet'.C3>, <Cell 'Sheet'.D3>))"
            ]
          },
          "metadata": {},
          "execution_count": 23
        }
      ]
    },
    {
      "cell_type": "code",
      "source": [
        "#열 이름으로 접근\n",
        "ws['A:D']\n",
        "#열만"
      ],
      "metadata": {
        "colab": {
          "base_uri": "https://localhost:8080/"
        },
        "id": "IDhuj3hbcs_T",
        "outputId": "2bf47931-6f91-4e2c-df06-716f4adb30d9"
      },
      "execution_count": null,
      "outputs": [
        {
          "output_type": "execute_result",
          "data": {
            "text/plain": [
              "((<Cell 'Sheet'.A1>, <Cell 'Sheet'.A2>, <Cell 'Sheet'.A3>),\n",
              " (<Cell 'Sheet'.B1>, <Cell 'Sheet'.B2>, <Cell 'Sheet'.B3>),\n",
              " (<Cell 'Sheet'.C1>, <Cell 'Sheet'.C2>, <Cell 'Sheet'.C3>),\n",
              " (<Cell 'Sheet'.D1>, <Cell 'Sheet'.D2>, <Cell 'Sheet'.D3>))"
            ]
          },
          "metadata": {},
          "execution_count": 24
        }
      ]
    },
    {
      "cell_type": "code",
      "source": [
        "#반복문으로 다중셀 접근 - 행 단위\n",
        "for i in ws.iter_rows(min_row = 1, max_row = 2, max_col = 3):\n",
        " # print(i)\n",
        " for j in i:\n",
        "  print(j)"
      ],
      "metadata": {
        "colab": {
          "base_uri": "https://localhost:8080/"
        },
        "id": "tB8BwKNtc1g2",
        "outputId": "ad927ff9-70d8-478b-bd74-589cbaf5c9b9"
      },
      "execution_count": null,
      "outputs": [
        {
          "output_type": "stream",
          "name": "stdout",
          "text": [
            "<Cell 'Sheet'.A1>\n",
            "<Cell 'Sheet'.B1>\n",
            "<Cell 'Sheet'.C1>\n",
            "<Cell 'Sheet'.A2>\n",
            "<Cell 'Sheet'.B2>\n",
            "<Cell 'Sheet'.C2>\n"
          ]
        }
      ]
    },
    {
      "cell_type": "code",
      "source": [
        "#반복문으로 다중셀 접근 - 열 단위\n",
        "for i in ws.iter_cols(min_row = 1, max_row = 2, max_col = 3):\n",
        " # print(i)\n",
        " for j in i:\n",
        "  print(j)"
      ],
      "metadata": {
        "colab": {
          "base_uri": "https://localhost:8080/"
        },
        "id": "UTTRgPOmeHB2",
        "outputId": "acae0658-d024-45e6-b9a8-8b5dbb108563"
      },
      "execution_count": null,
      "outputs": [
        {
          "output_type": "stream",
          "name": "stdout",
          "text": [
            "<Cell 'Sheet'.A1>\n",
            "<Cell 'Sheet'.A2>\n",
            "<Cell 'Sheet'.B1>\n",
            "<Cell 'Sheet'.B2>\n",
            "<Cell 'Sheet'.C1>\n",
            "<Cell 'Sheet'.C2>\n"
          ]
        }
      ]
    },
    {
      "cell_type": "code",
      "source": [
        "#모든 행을 한번에 보고 싶은 경우\n",
        "list(ws.rows)"
      ],
      "metadata": {
        "colab": {
          "base_uri": "https://localhost:8080/"
        },
        "id": "zhUM2IQgfkTv",
        "outputId": "1b6e3e2b-c73d-4241-ac1e-aaee2cbf5d40"
      },
      "execution_count": null,
      "outputs": [
        {
          "output_type": "execute_result",
          "data": {
            "text/plain": [
              "[(<Cell 'Sheet'.A1>, <Cell 'Sheet'.B1>, <Cell 'Sheet'.C1>, <Cell 'Sheet'.D1>),\n",
              " (<Cell 'Sheet'.A2>, <Cell 'Sheet'.B2>, <Cell 'Sheet'.C2>, <Cell 'Sheet'.D2>),\n",
              " (<Cell 'Sheet'.A3>, <Cell 'Sheet'.B3>, <Cell 'Sheet'.C3>, <Cell 'Sheet'.D3>)]"
            ]
          },
          "metadata": {},
          "execution_count": 27
        }
      ]
    },
    {
      "cell_type": "code",
      "source": [
        "tuple(ws.rows)"
      ],
      "metadata": {
        "colab": {
          "base_uri": "https://localhost:8080/"
        },
        "id": "KNAxrlhzfsdD",
        "outputId": "b46bf0e0-789f-4a15-d563-c8bef77069ad"
      },
      "execution_count": null,
      "outputs": [
        {
          "output_type": "execute_result",
          "data": {
            "text/plain": [
              "((<Cell 'Sheet'.A1>, <Cell 'Sheet'.B1>, <Cell 'Sheet'.C1>, <Cell 'Sheet'.D1>),\n",
              " (<Cell 'Sheet'.A2>, <Cell 'Sheet'.B2>, <Cell 'Sheet'.C2>, <Cell 'Sheet'.D2>),\n",
              " (<Cell 'Sheet'.A3>, <Cell 'Sheet'.B3>, <Cell 'Sheet'.C3>, <Cell 'Sheet'.D3>))"
            ]
          },
          "metadata": {},
          "execution_count": 28
        }
      ]
    },
    {
      "cell_type": "code",
      "source": [
        "#모든 열을 한번에 보고 싶은 경우\n",
        "list(ws.columns)"
      ],
      "metadata": {
        "colab": {
          "base_uri": "https://localhost:8080/"
        },
        "id": "1TIOs0xPf0LH",
        "outputId": "08fcf76a-eb98-4705-843f-b3d203fce86f"
      },
      "execution_count": null,
      "outputs": [
        {
          "output_type": "execute_result",
          "data": {
            "text/plain": [
              "[(<Cell 'Sheet'.A1>, <Cell 'Sheet'.A2>, <Cell 'Sheet'.A3>),\n",
              " (<Cell 'Sheet'.B1>, <Cell 'Sheet'.B2>, <Cell 'Sheet'.B3>),\n",
              " (<Cell 'Sheet'.C1>, <Cell 'Sheet'.C2>, <Cell 'Sheet'.C3>),\n",
              " (<Cell 'Sheet'.D1>, <Cell 'Sheet'.D2>, <Cell 'Sheet'.D3>)]"
            ]
          },
          "metadata": {},
          "execution_count": 29
        }
      ]
    },
    {
      "cell_type": "code",
      "source": [
        "tuple(ws.columns)"
      ],
      "metadata": {
        "colab": {
          "base_uri": "https://localhost:8080/"
        },
        "id": "U7J2I5ZBf5KD",
        "outputId": "2c2b156e-4b59-41fc-9fb5-07bb70a2dd1b"
      },
      "execution_count": null,
      "outputs": [
        {
          "output_type": "execute_result",
          "data": {
            "text/plain": [
              "((<Cell 'Sheet'.A1>, <Cell 'Sheet'.A2>, <Cell 'Sheet'.A3>),\n",
              " (<Cell 'Sheet'.B1>, <Cell 'Sheet'.B2>, <Cell 'Sheet'.B3>),\n",
              " (<Cell 'Sheet'.C1>, <Cell 'Sheet'.C2>, <Cell 'Sheet'.C3>),\n",
              " (<Cell 'Sheet'.D1>, <Cell 'Sheet'.D2>, <Cell 'Sheet'.D3>))"
            ]
          },
          "metadata": {},
          "execution_count": 30
        }
      ]
    },
    {
      "cell_type": "code",
      "source": [
        "#데이터 입력\n",
        "#셀 이름을 이용해 데이터 입력\n",
        "ws['A1']='Cloud'"
      ],
      "metadata": {
        "id": "Uuirl9YWf9CO"
      },
      "execution_count": null,
      "outputs": []
    },
    {
      "cell_type": "code",
      "source": [
        "#행 단위로 입력\n",
        "ws.append([1,2,3])"
      ],
      "metadata": {
        "id": "Ou-k4pi1hGV6"
      },
      "execution_count": null,
      "outputs": []
    },
    {
      "cell_type": "code",
      "source": [
        "#특정 셀 위치 지정해서 입력\n",
        "ws.cell(row = 3, column = 2, value = '3번째행의2번째열의값')"
      ],
      "metadata": {
        "colab": {
          "base_uri": "https://localhost:8080/"
        },
        "id": "0JA_KO9GhNvB",
        "outputId": "2fa2c4ee-2eb9-43db-cd97-63acfd3d64aa"
      },
      "execution_count": null,
      "outputs": [
        {
          "output_type": "execute_result",
          "data": {
            "text/plain": [
              "<Cell 'Sheet'.B3>"
            ]
          },
          "metadata": {},
          "execution_count": 33
        }
      ]
    },
    {
      "cell_type": "code",
      "source": [
        "#파일로 저장\n",
        "wb.save('./wb.xlsx')"
      ],
      "metadata": {
        "id": "R1RsuKu7hnEj"
      },
      "execution_count": null,
      "outputs": []
    },
    {
      "cell_type": "code",
      "source": [
        "# 열 단위로 입력\n",
        "ws.append({'A':9,'B':8,'C':7})"
      ],
      "metadata": {
        "id": "ol6n2VQ_mINg"
      },
      "execution_count": null,
      "outputs": []
    },
    {
      "cell_type": "code",
      "source": [
        "wb.save('./wb.xlsx')"
      ],
      "metadata": {
        "id": "v55qWBEtmjEe"
      },
      "execution_count": null,
      "outputs": []
    },
    {
      "cell_type": "code",
      "source": [
        "# 반복문으로 다중셀 접근 - 행 단위\n",
        "for i in ws.iter_rows(min_row = 1, max_row = 5, max_col = 4, values_only=True):\n",
        "  print(i) # 행\n",
        "  for j in i:\n",
        "    print(j) # 열\n",
        "# 다중셀에서 셀을 하나씩 꺼내서 출력"
      ],
      "metadata": {
        "colab": {
          "base_uri": "https://localhost:8080/"
        },
        "id": "vlKdmMBSmnIN",
        "outputId": "f2346a54-a531-4426-b855-4c89dd7c96fe"
      },
      "execution_count": null,
      "outputs": [
        {
          "output_type": "stream",
          "name": "stdout",
          "text": [
            "('Cloud', None, None, None)\n",
            "Cloud\n",
            "None\n",
            "None\n",
            "None\n",
            "(None, None, None, None)\n",
            "None\n",
            "None\n",
            "None\n",
            "None\n",
            "(None, '3번째행의2번째열의값', None, None)\n",
            "None\n",
            "3번째행의2번째열의값\n",
            "None\n",
            "None\n",
            "(1, 2, 3, None)\n",
            "1\n",
            "2\n",
            "3\n",
            "None\n",
            "(9, 8, 7, None)\n",
            "9\n",
            "8\n",
            "7\n",
            "None\n"
          ]
        }
      ]
    },
    {
      "cell_type": "code",
      "source": [
        "# 워크시트 복사\n",
        "ws_copy = wb.copy_worksheet(ws)\n",
        "print(\"원본 시트: \", ws)\n",
        "print(\"복사 시트: \", ws_copy)"
      ],
      "metadata": {
        "colab": {
          "base_uri": "https://localhost:8080/"
        },
        "id": "Ft0KeROVoh-j",
        "outputId": "8bec08de-291a-4176-a49b-946d9b9ec66b"
      },
      "execution_count": null,
      "outputs": [
        {
          "output_type": "stream",
          "name": "stdout",
          "text": [
            "원본 시트:  <Worksheet \"Sheet\">\n",
            "복사 시트:  <Worksheet \"Sheet Copy\">\n"
          ]
        }
      ]
    },
    {
      "cell_type": "code",
      "source": [
        "from openpyxl import load_workbook\n",
        "\n",
        "wb = load_workbook('/content/drive/MyDrive/Digital_Hana1/data/stock price.xlsx',data_only = True)"
      ],
      "metadata": {
        "id": "BoVqaugppPct"
      },
      "execution_count": null,
      "outputs": []
    },
    {
      "cell_type": "code",
      "source": [
        "wb.sheetnames"
      ],
      "metadata": {
        "colab": {
          "base_uri": "https://localhost:8080/"
        },
        "id": "qRot9lLBpmsw",
        "outputId": "1c3376e9-fb4a-4b7c-a8bd-fb13dd8b6ec3"
      },
      "execution_count": null,
      "outputs": [
        {
          "output_type": "execute_result",
          "data": {
            "text/plain": [
              "['Sheet1']"
            ]
          },
          "metadata": {},
          "execution_count": 40
        }
      ]
    },
    {
      "cell_type": "code",
      "source": [
        "#워크 시트 불러오기\n",
        "ws = wb['Sheet1']"
      ],
      "metadata": {
        "id": "wj27ZMvYp_Ge"
      },
      "execution_count": null,
      "outputs": []
    },
    {
      "cell_type": "code",
      "source": [
        "#값 확인 \n",
        "ws['B2'].value"
      ],
      "metadata": {
        "colab": {
          "base_uri": "https://localhost:8080/",
          "height": 35
        },
        "id": "HzkVe5K_qWbI",
        "outputId": "be0a88ef-53d9-4d6b-9db7-e9aeee3941dc"
      },
      "execution_count": null,
      "outputs": [
        {
          "output_type": "execute_result",
          "data": {
            "text/plain": [
              "'한미약품'"
            ],
            "application/vnd.google.colaboratory.intrinsic+json": {
              "type": "string"
            }
          },
          "metadata": {},
          "execution_count": 42
        }
      ]
    },
    {
      "cell_type": "code",
      "source": [
        "ws['D5'].value"
      ],
      "metadata": {
        "colab": {
          "base_uri": "https://localhost:8080/"
        },
        "id": "a0fcxjMgq5jA",
        "outputId": "55c6cdab-6c77-4b92-d139-8312524a1c73"
      },
      "execution_count": null,
      "outputs": [
        {
          "output_type": "execute_result",
          "data": {
            "text/plain": [
              "254500"
            ]
          },
          "metadata": {},
          "execution_count": 43
        }
      ]
    },
    {
      "cell_type": "code",
      "source": [
        "#셀 위치 => 해과 열 번호로 확인\n",
        "ws.cell(3,1).value"
      ],
      "metadata": {
        "colab": {
          "base_uri": "https://localhost:8080/",
          "height": 35
        },
        "id": "GUHEbwFzq7mP",
        "outputId": "22a76e83-10a5-481c-ea4a-7992f1f9ee7f"
      },
      "execution_count": null,
      "outputs": [
        {
          "output_type": "execute_result",
          "data": {
            "text/plain": [
              "'130960'"
            ],
            "application/vnd.google.colaboratory.intrinsic+json": {
              "type": "string"
            }
          },
          "metadata": {},
          "execution_count": 44
        }
      ]
    },
    {
      "cell_type": "code",
      "source": [
        "#다중셀로 접근하여 값 확인\n",
        "stock_name = ws['B2:B11']\n",
        "for i in stock_name:\n",
        "  for j in i:\n",
        "    print(j.value)"
      ],
      "metadata": {
        "colab": {
          "base_uri": "https://localhost:8080/"
        },
        "id": "e6QmmKI0rbll",
        "outputId": "6196eaf7-f373-4447-88a2-a12a410eafef"
      },
      "execution_count": null,
      "outputs": [
        {
          "output_type": "stream",
          "name": "stdout",
          "text": [
            "한미약품\n",
            "CJ E&M\n",
            "엔에스쇼핑\n",
            "이마트\n",
            "녹십자엠에스\n",
            "삼양사\n",
            "종근당\n",
            "쿠쿠홀딩스\n",
            "툴젠\n",
            "모두투어리츠\n"
          ]
        }
      ]
    },
    {
      "cell_type": "code",
      "source": [
        "#모든 행의 값을 확인 - 행 방향으로 값이 출력\n",
        "for i in ws.rows:\n",
        "  for j in i:\n",
        "    print(j.value)"
      ],
      "metadata": {
        "colab": {
          "base_uri": "https://localhost:8080/"
        },
        "id": "AW4H7AThsy72",
        "outputId": "52d796e7-9e56-48fe-f252-a2c9e0209534"
      },
      "execution_count": null,
      "outputs": [
        {
          "output_type": "stream",
          "name": "stdout",
          "text": [
            "id\n",
            "stock_name\n",
            "value\n",
            "price\n",
            "128940\n",
            "한미약품\n",
            "59385.66666666666\n",
            "421000\n",
            "130960\n",
            "CJ E&M\n",
            "58540.66666666666\n",
            "98900\n",
            "138250\n",
            "엔에스쇼핑\n",
            "14558.66666666667\n",
            "13200\n",
            "139480\n",
            "이마트\n",
            "239230.8333333333\n",
            "254500\n",
            "142280\n",
            "녹십자엠에스\n",
            "468.8333333333333\n",
            "10200\n",
            "145990\n",
            "삼양사\n",
            "82750\n",
            "82000\n",
            "185750\n",
            "종근당\n",
            "40293.66666666667\n",
            "100500\n",
            "192400\n",
            "쿠쿠홀딩스\n",
            "179204.6666666667\n",
            "177500\n",
            "199800\n",
            "툴젠\n",
            "-2514.333333333333\n",
            "115400\n",
            "204210\n",
            "모두투어리츠\n",
            "3093.333333333333\n",
            "3475\n"
          ]
        }
      ]
    },
    {
      "cell_type": "code",
      "source": [
        "#모든 행의 값을 확인 - 열 방향으로 값이 출력\n",
        "for i in ws.columns:\n",
        "  for j in i:\n",
        "    print(j.value) "
      ],
      "metadata": {
        "colab": {
          "base_uri": "https://localhost:8080/"
        },
        "id": "FOEIjt0rtTkW",
        "outputId": "748f272c-d1ab-459a-cb90-f8e68f803606"
      },
      "execution_count": null,
      "outputs": [
        {
          "output_type": "stream",
          "name": "stdout",
          "text": [
            "id\n",
            "128940\n",
            "130960\n",
            "138250\n",
            "139480\n",
            "142280\n",
            "145990\n",
            "185750\n",
            "192400\n",
            "199800\n",
            "204210\n",
            "stock_name\n",
            "한미약품\n",
            "CJ E&M\n",
            "엔에스쇼핑\n",
            "이마트\n",
            "녹십자엠에스\n",
            "삼양사\n",
            "종근당\n",
            "쿠쿠홀딩스\n",
            "툴젠\n",
            "모두투어리츠\n",
            "value\n",
            "59385.66666666666\n",
            "58540.66666666666\n",
            "14558.66666666667\n",
            "239230.8333333333\n",
            "468.8333333333333\n",
            "82750\n",
            "40293.66666666667\n",
            "179204.6666666667\n",
            "-2514.333333333333\n",
            "3093.333333333333\n",
            "price\n",
            "421000\n",
            "98900\n",
            "13200\n",
            "254500\n",
            "10200\n",
            "82000\n",
            "100500\n",
            "177500\n",
            "115400\n",
            "3475\n"
          ]
        }
      ]
    },
    {
      "cell_type": "code",
      "source": [
        "#모든 행과 열의 값 확인 = 리스트로 담아서 출력\n",
        "\n",
        "values = []\n",
        "\n",
        "for i in ws.rows:\n",
        "  row_values = []\n",
        "  for j in i:\n",
        "    row_values.append(j.value)\n",
        "  values.append(row_values)\n",
        "\n",
        "print(values)"
      ],
      "metadata": {
        "colab": {
          "base_uri": "https://localhost:8080/"
        },
        "id": "VedRteaytyMM",
        "outputId": "29e603eb-e80d-4130-c17f-57a995da5f31"
      },
      "execution_count": null,
      "outputs": [
        {
          "output_type": "stream",
          "name": "stdout",
          "text": [
            "[['id', 'stock_name', 'value', 'price'], ['128940', '한미약품', 59385.66666666666, 421000], ['130960', 'CJ E&M', 58540.66666666666, 98900], ['138250', '엔에스쇼핑', 14558.66666666667, 13200], ['139480', '이마트', 239230.8333333333, 254500], ['142280', '녹십자엠에스', 468.8333333333333, 10200], ['145990', '삼양사', 82750, 82000], ['185750', '종근당', 40293.66666666667, 100500], ['192400', '쿠쿠홀딩스', 179204.6666666667, 177500], ['199800', '툴젠', -2514.333333333333, 115400], ['204210', '모두투어리츠', 3093.333333333333, 3475]]\n"
          ]
        }
      ]
    },
    {
      "cell_type": "code",
      "source": [
        "#값 변경\n",
        "ws.cell(2,4,1000) #두번째 행에 네번째 열"
      ],
      "metadata": {
        "colab": {
          "base_uri": "https://localhost:8080/"
        },
        "id": "Ppr_89bYu5s1",
        "outputId": "a32b3521-625d-47ea-c2b6-a1994ebef68f"
      },
      "execution_count": null,
      "outputs": [
        {
          "output_type": "execute_result",
          "data": {
            "text/plain": [
              "<Cell 'Sheet1'.D2>"
            ]
          },
          "metadata": {},
          "execution_count": 49
        }
      ]
    },
    {
      "cell_type": "code",
      "source": [
        "ws.cell(5,4,2000)"
      ],
      "metadata": {
        "colab": {
          "base_uri": "https://localhost:8080/"
        },
        "id": "hQIe4EFmvfP5",
        "outputId": "51fd2e75-97b8-47cc-c976-580b97cc46f6"
      },
      "execution_count": null,
      "outputs": [
        {
          "output_type": "execute_result",
          "data": {
            "text/plain": [
              "<Cell 'Sheet1'.D5>"
            ]
          },
          "metadata": {},
          "execution_count": 50
        }
      ]
    },
    {
      "cell_type": "code",
      "source": [
        "ws.cell(11,4,3000)"
      ],
      "metadata": {
        "colab": {
          "base_uri": "https://localhost:8080/"
        },
        "id": "ZwZCJIFNvkS6",
        "outputId": "fb27b6f7-ded3-46d0-fe5f-536d7bf14459"
      },
      "execution_count": null,
      "outputs": [
        {
          "output_type": "execute_result",
          "data": {
            "text/plain": [
              "<Cell 'Sheet1'.D11>"
            ]
          },
          "metadata": {},
          "execution_count": 51
        }
      ]
    },
    {
      "cell_type": "code",
      "source": [
        "#워크 시트 저장\n",
        "wb.save('./stock_edit.xlsx')"
      ],
      "metadata": {
        "id": "RapzFi_NvvQo"
      },
      "execution_count": null,
      "outputs": []
    },
    {
      "cell_type": "code",
      "source": [],
      "metadata": {
        "id": "Zj2G_BVFvz9K"
      },
      "execution_count": null,
      "outputs": []
    }
  ]
}